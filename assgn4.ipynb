{
 "cells": [
  {
   "cell_type": "code",
   "execution_count": 1,
   "id": "3be1408b",
   "metadata": {},
   "outputs": [],
   "source": [
    "import tensorflow as tf\n",
    "from tensorflow.keras import layers, models\n",
    "import numpy as np\n",
    "import cv2"
   ]
  },
  {
   "cell_type": "code",
   "execution_count": 2,
   "id": "48a0a274",
   "metadata": {},
   "outputs": [],
   "source": [
    "def create_base_network(input_shape):\n",
    "    input = tf.keras.Input(shape=input_shape)\n",
    "    x = layers.Conv2D(64, (3, 3), activation='relu')(input)\n",
    "    x = layers.MaxPooling2D()(x)\n",
    "    x = layers.Conv2D(128, (3, 3), activation='relu')(x)\n",
    "    x = layers.MaxPooling2D()(x)\n",
    "    x = layers.Flatten()(x)\n",
    "    x = layers.Dense(128, activation='relu')(x)\n",
    "    x = layers.Dense(128, activation='relu')(x)\n",
    "    return models.Model(input, x)"
   ]
  },
  {
   "cell_type": "code",
   "execution_count": 3,
   "id": "fdb35b7f",
   "metadata": {},
   "outputs": [],
   "source": [
    "input_shape = (105, 105, 1)\n",
    "base_network = create_base_network(input_shape)"
   ]
  },
  {
   "cell_type": "code",
   "execution_count": 4,
   "id": "21a2e289",
   "metadata": {},
   "outputs": [],
   "source": [
    "input_a = tf.keras.Input(shape=input_shape)\n",
    "input_b = tf.keras.Input(shape=input_shape)"
   ]
  },
  {
   "cell_type": "code",
   "execution_count": 5,
   "id": "c48a9b0b",
   "metadata": {},
   "outputs": [],
   "source": [
    "processed_a = base_network(input_a)\n",
    "processed_b = base_network(input_b)"
   ]
  },
  {
   "cell_type": "code",
   "execution_count": 6,
   "id": "8f8c625d",
   "metadata": {},
   "outputs": [],
   "source": [
    "distance = layers.Lambda(lambda embeddings: tf.keras.backend.abs(embeddings[0] - embeddings[1]))([processed_a, processed_b])\n",
    "outputs = layers.Dense(1, activation='sigmoid')(distance)\n",
    "model = models.Model([input_a, input_b], outputs)\n"
   ]
  },
  {
   "cell_type": "code",
   "execution_count": 7,
   "id": "963fd25b",
   "metadata": {},
   "outputs": [],
   "source": [
    "model.compile(optimizer='adam', loss='binary_crossentropy', metrics=['accuracy'])"
   ]
  },
  {
   "cell_type": "code",
   "execution_count": 8,
   "id": "4e78783b",
   "metadata": {},
   "outputs": [],
   "source": [
    "def load_image(filepath):\n",
    "    img = cv2.imread(filepath, cv2.IMREAD_GRAYSCALE)\n",
    "    img = cv2.resize(img, (105, 105))\n",
    "    img = img.astype('float32') / 255.0\n",
    "    img = np.expand_dims(img, axis=-1)\n",
    "    return img"
   ]
  },
  {
   "cell_type": "code",
   "execution_count": 9,
   "id": "f59a0f12",
   "metadata": {},
   "outputs": [],
   "source": [
    "# Prepare your pairs of images and labels for training\n",
    "def create_pairs(base_image_path, other_image_paths, same_class_paths):\n",
    "    base_image = load_image(base_image_path)\n",
    "    pairs = []\n",
    "    labels = []\n",
    "\n",
    "    for other_image_path in other_image_paths:\n",
    "        other_image = load_image(other_image_path)\n",
    "        pairs.append([base_image, other_image])\n",
    "        labels.append(0)  # Different class\n",
    "\n",
    "    for same_class_path in same_class_paths:\n",
    "        same_class_image = load_image(same_class_path)\n",
    "        pairs.append([base_image, same_class_image])\n",
    "        labels.append(1)  # Same class\n",
    "\n",
    "    return np.array(pairs), np.array(labels)\n"
   ]
  },
  {
   "cell_type": "code",
   "execution_count": 11,
   "id": "677f5f6a",
   "metadata": {},
   "outputs": [],
   "source": [
    "base_image_path = r\"C:\\Users\\HP\\OneDrive\\Desktop\\proj1\\katrina2.png\"\n",
    "other_image_paths = [r\"C:\\Users\\HP\\OneDrive\\Desktop\\proj1\\tripti1.png\", r\"C:\\Users\\HP\\OneDrive\\Desktop\\proj1\\tripti2.png\"]\n",
    "same_class_paths = [r\"C:\\Users\\HP\\OneDrive\\Desktop\\proj1\\katrina1.png\", r\"C:\\Users\\HP\\OneDrive\\Desktop\\proj1\\katrina2.png\"]\n",
    "\n",
    "pairs, labels = create_pairs(base_image_path, other_image_paths, same_class_paths)\n",
    "pairs = [pairs[:, 0], pairs[:, 1]]\n"
   ]
  },
  {
   "cell_type": "code",
   "execution_count": 12,
   "id": "5c85f7f3",
   "metadata": {},
   "outputs": [],
   "source": [
    "pairs, labels = create_pairs(base_image_path, other_image_paths, same_class_paths)\n",
    "pairs = [pairs[:, 0], pairs[:, 1]]"
   ]
  },
  {
   "cell_type": "code",
   "execution_count": 13,
   "id": "49e9911a",
   "metadata": {},
   "outputs": [
    {
     "name": "stdout",
     "output_type": "stream",
     "text": [
      "Epoch 1/10\n",
      "1/1 [==============================] - 2s 2s/step - loss: 0.6921 - accuracy: 0.5000\n",
      "Epoch 2/10\n",
      "1/1 [==============================] - 0s 160ms/step - loss: 0.5784 - accuracy: 0.7500\n",
      "Epoch 3/10\n",
      "1/1 [==============================] - 0s 156ms/step - loss: 0.3771 - accuracy: 1.0000\n",
      "Epoch 4/10\n",
      "1/1 [==============================] - 0s 154ms/step - loss: 0.2222 - accuracy: 1.0000\n",
      "Epoch 5/10\n",
      "1/1 [==============================] - 0s 157ms/step - loss: 0.1787 - accuracy: 1.0000\n",
      "Epoch 6/10\n",
      "1/1 [==============================] - 0s 157ms/step - loss: 0.1733 - accuracy: 1.0000\n",
      "Epoch 7/10\n",
      "1/1 [==============================] - 0s 150ms/step - loss: 0.1727 - accuracy: 1.0000\n",
      "Epoch 8/10\n",
      "1/1 [==============================] - 0s 149ms/step - loss: 0.1725 - accuracy: 1.0000\n",
      "Epoch 9/10\n",
      "1/1 [==============================] - 0s 149ms/step - loss: 0.1724 - accuracy: 1.0000\n",
      "Epoch 10/10\n",
      "1/1 [==============================] - 0s 154ms/step - loss: 0.1723 - accuracy: 1.0000\n"
     ]
    },
    {
     "data": {
      "text/plain": [
       "<keras.src.callbacks.History at 0x22ca84f2790>"
      ]
     },
     "execution_count": 13,
     "metadata": {},
     "output_type": "execute_result"
    }
   ],
   "source": [
    "model.fit(pairs, labels, epochs=10, batch_size=32)"
   ]
  },
  {
   "cell_type": "code",
   "execution_count": 15,
   "id": "4ac65ab8",
   "metadata": {},
   "outputs": [
    {
     "name": "stdout",
     "output_type": "stream",
     "text": [
      "1/1 [==============================] - 0s 165ms/step\n",
      "Prediction: [[5.755671e-10]]\n"
     ]
    }
   ],
   "source": [
    "img1 = load_image(r\"C:\\Users\\HP\\OneDrive\\Desktop\\proj1\\katrina2.png\")\n",
    "img2 = load_image(r\"C:\\Users\\HP\\OneDrive\\Desktop\\proj1\\tripti2.png\")\n",
    "prediction = model.predict([np.expand_dims(img1, axis=0), np.expand_dims(img2, axis=0)])\n",
    "print(f'Prediction: {prediction}')"
   ]
  },
  {
   "cell_type": "code",
   "execution_count": 16,
   "id": "c5c65072",
   "metadata": {},
   "outputs": [
    {
     "name": "stdout",
     "output_type": "stream",
     "text": [
      "1/1 [==============================] - 0s 264ms/step - loss: 0.1721 - accuracy: 1.0000\n",
      "Validation Accuracy: 1.0\n"
     ]
    }
   ],
   "source": [
    "val_other_image_paths = [r\"C:\\Users\\HP\\OneDrive\\Desktop\\proj1\\tripti1.png\", r\"C:\\Users\\HP\\OneDrive\\Desktop\\proj1\\tripti2.png\"]\n",
    "val_same_class_paths = [r\"C:\\Users\\HP\\OneDrive\\Desktop\\proj1\\katrina1.png\", r\"C:\\Users\\HP\\OneDrive\\Desktop\\proj1\\katrina2.png\"]\n",
    "\n",
    "val_pairs, val_labels = create_pairs(base_image_path, val_other_image_paths, val_same_class_paths)\n",
    "val_pairs = [val_pairs[:, 0], val_pairs[:, 1]]\n",
    "\n",
    "# Evaluate the model\n",
    "loss, accuracy = model.evaluate(val_pairs, val_labels)\n",
    "\n",
    "print(f'Validation Accuracy: {accuracy}')"
   ]
  },
  {
   "cell_type": "code",
   "execution_count": null,
   "id": "cae062c1",
   "metadata": {},
   "outputs": [],
   "source": []
  }
 ],
 "metadata": {
  "kernelspec": {
   "display_name": "Python 3 (ipykernel)",
   "language": "python",
   "name": "python3"
  },
  "language_info": {
   "codemirror_mode": {
    "name": "ipython",
    "version": 3
   },
   "file_extension": ".py",
   "mimetype": "text/x-python",
   "name": "python",
   "nbconvert_exporter": "python",
   "pygments_lexer": "ipython3",
   "version": "3.11.5"
  }
 },
 "nbformat": 4,
 "nbformat_minor": 5
}
